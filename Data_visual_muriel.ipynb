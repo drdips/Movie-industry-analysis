{
 "cells": [
  {
   "cell_type": "code",
   "execution_count": 2,
   "metadata": {},
   "outputs": [],
   "source": [
    "import matplotlib.pyplot as plt\n",
    "import pandas as pd\n",
    "import numpy as np\n",
    "import seaborn as sns\n",
    "%matplotlib inline\n",
    "\n",
    "both = pd.read_csv('data/bothyear.csv')"
   ]
  },
  {
   "cell_type": "code",
   "execution_count": 3,
   "metadata": {},
   "outputs": [
    {
     "data": {
      "text/html": [
       "<div>\n",
       "<style scoped>\n",
       "    .dataframe tbody tr th:only-of-type {\n",
       "        vertical-align: middle;\n",
       "    }\n",
       "\n",
       "    .dataframe tbody tr th {\n",
       "        vertical-align: top;\n",
       "    }\n",
       "\n",
       "    .dataframe thead th {\n",
       "        text-align: right;\n",
       "    }\n",
       "</style>\n",
       "<table border=\"1\" class=\"dataframe\">\n",
       "  <thead>\n",
       "    <tr style=\"text-align: right;\">\n",
       "      <th></th>\n",
       "      <th>Unnamed: 0</th>\n",
       "      <th>title</th>\n",
       "      <th>theaters</th>\n",
       "      <th>release</th>\n",
       "      <th>distributor</th>\n",
       "      <th>gross</th>\n",
       "      <th>total_gross</th>\n",
       "      <th>season_year</th>\n",
       "      <th>seasonn</th>\n",
       "    </tr>\n",
       "  </thead>\n",
       "  <tbody>\n",
       "    <tr>\n",
       "      <th>1628</th>\n",
       "      <td>35</td>\n",
       "      <td>God's Not Dead: A Light in Darkness</td>\n",
       "      <td>1,693</td>\n",
       "      <td>Mar 30</td>\n",
       "      <td>Pure Flix Entertainment\\n\\n</td>\n",
       "      <td>5620011</td>\n",
       "      <td>5728940</td>\n",
       "      <td>2018</td>\n",
       "      <td>Spring</td>\n",
       "    </tr>\n",
       "    <tr>\n",
       "      <th>1044</th>\n",
       "      <td>174</td>\n",
       "      <td>Mike Wallace Is Here</td>\n",
       "      <td>39</td>\n",
       "      <td>Jul 26</td>\n",
       "      <td>Magnolia Pictures\\n\\n</td>\n",
       "      <td>20579</td>\n",
       "      <td>281245</td>\n",
       "      <td>2019</td>\n",
       "      <td>Fall</td>\n",
       "    </tr>\n",
       "  </tbody>\n",
       "</table>\n",
       "</div>"
      ],
      "text/plain": [
       "      Unnamed: 0                                title theaters release  \\\n",
       "1628          35  God's Not Dead: A Light in Darkness    1,693  Mar 30   \n",
       "1044         174                 Mike Wallace Is Here       39  Jul 26   \n",
       "\n",
       "                      distributor    gross  total_gross  season_year seasonn  \n",
       "1628  Pure Flix Entertainment\\n\\n  5620011      5728940         2018  Spring  \n",
       "1044        Magnolia Pictures\\n\\n    20579       281245         2019   Fall   "
      ]
     },
     "execution_count": 3,
     "metadata": {},
     "output_type": "execute_result"
    }
   ],
   "source": [
    "both.sample(2)"
   ]
  },
  {
   "cell_type": "code",
   "execution_count": 5,
   "metadata": {},
   "outputs": [],
   "source": [
    "both['season'] = both.seasonn.map(lambda x: x.replace(' ',''))"
   ]
  },
  {
   "cell_type": "code",
   "execution_count": 13,
   "metadata": {},
   "outputs": [
    {
     "data": {
      "text/plain": [
       "Text(0, 0.5, 'Average Gross')"
      ]
     },
     "execution_count": 13,
     "metadata": {},
     "output_type": "execute_result"
    },
    {
     "data": {
      "image/png": "[encoded data removed]",
      "text/plain": [
       "<Figure size 432x288 with 1 Axes>"
      ]
     },
     "metadata": {
      "needs_background": "light"
     },
     "output_type": "display_data"
    }
   ],
   "source": [
    "both.groupby(['season','season_year']).gross.mean().unstack().plot.bar(stacked=True)\n",
    "plt.title('Season vs Average Gross')\n",
    "plt.xlabel('Season')\n",
    "plt.ylabel('Average Gross')"
   ]
  },
  {
   "cell_type": "code",
   "execution_count": null,
   "metadata": {},
   "outputs": [],
   "source": []
  }
 ],
 "metadata": {
  "kernelspec": {
   "display_name": "Python 3",
   "language": "python",
   "name": "python3"
  },
  "language_info": {
   "codemirror_mode": {
    "name": "ipython",
    "version": 3
   },
   "file_extension": ".py",
   "mimetype": "text/x-python",
   "name": "python",
   "nbconvert_exporter": "python",
   "pygments_lexer": "ipython3",
   "version": "3.7.6"
  }
 },
 "nbformat": 4,
 "nbformat_minor": 4
}
