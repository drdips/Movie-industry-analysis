{
 "cells": [
  {
   "cell_type": "code",
   "execution_count": 82,
   "metadata": {},
   "outputs": [],
   "source": [
    "import pandas as pd\n",
    "import numpy as np\n",
    "import matplotlib.pyplot as plt\n",
    "%matplotlib inline\n",
    "import seaborn as sns"
   ]
  },
  {
   "cell_type": "code",
   "execution_count": 83,
   "metadata": {},
   "outputs": [],
   "source": [
    "#import csv files into tables\n",
    "title_basics = pd.read_csv('data/imdb.title.basics.csv')\n",
    "years = pd.read_csv('data/bothyear.csv') #This is our webscraped csv"
   ]
  },
  {
   "cell_type": "code",
   "execution_count": 84,
   "metadata": {},
   "outputs": [],
   "source": [
    "years['season'] = years.seasonn.map(lambda x: x.replace(' ',''))"
   ]
  },
  {
   "cell_type": "code",
   "execution_count": 85,
   "metadata": {
    "scrolled": true
   },
   "outputs": [],
   "source": [
    "years['release_month'] = years.release.map(lambda x: x[:3])"
   ]
  },
  {
   "cell_type": "code",
   "execution_count": 92,
   "metadata": {},
   "outputs": [],
   "source": [
    "years[\"release_month\"] = pd.to_datetime(years.release_month, format='%b', errors='coerce').dt.month"
   ]
  },
  {
   "cell_type": "code",
   "execution_count": 102,
   "metadata": {},
   "outputs": [
    {
     "data": {
      "text/html": [
       "<div>\n",
       "<style scoped>\n",
       "    .dataframe tbody tr th:only-of-type {\n",
       "        vertical-align: middle;\n",
       "    }\n",
       "\n",
       "    .dataframe tbody tr th {\n",
       "        vertical-align: top;\n",
       "    }\n",
       "\n",
       "    .dataframe thead th {\n",
       "        text-align: right;\n",
       "    }\n",
       "</style>\n",
       "<table border=\"1\" class=\"dataframe\">\n",
       "  <thead>\n",
       "    <tr style=\"text-align: right;\">\n",
       "      <th></th>\n",
       "      <th>Unnamed: 0</th>\n",
       "      <th>title</th>\n",
       "      <th>theaters</th>\n",
       "      <th>release</th>\n",
       "      <th>distributor</th>\n",
       "      <th>gross</th>\n",
       "      <th>total_gross</th>\n",
       "      <th>season_year</th>\n",
       "      <th>seasonn</th>\n",
       "      <th>season</th>\n",
       "      <th>release_month</th>\n",
       "    </tr>\n",
       "  </thead>\n",
       "  <tbody>\n",
       "    <tr>\n",
       "      <th>1893</th>\n",
       "      <td>0</td>\n",
       "      <td>Incredibles 2</td>\n",
       "      <td>4,410</td>\n",
       "      <td>Jun 15</td>\n",
       "      <td>Walt Disney Studios Motion Pictures\\n\\n</td>\n",
       "      <td>603113505</td>\n",
       "      <td>608581744</td>\n",
       "      <td>2018</td>\n",
       "      <td>Summer</td>\n",
       "      <td>Summer</td>\n",
       "      <td>6</td>\n",
       "    </tr>\n",
       "    <tr>\n",
       "      <th>2349</th>\n",
       "      <td>31</td>\n",
       "      <td>Incredibles 2</td>\n",
       "      <td>4,410</td>\n",
       "      <td>Jun 15</td>\n",
       "      <td>Walt Disney Studios Motion Pictures\\n\\n</td>\n",
       "      <td>4827063</td>\n",
       "      <td>608581744</td>\n",
       "      <td>2018</td>\n",
       "      <td>Fall</td>\n",
       "      <td>Fall</td>\n",
       "      <td>6</td>\n",
       "    </tr>\n",
       "    <tr>\n",
       "      <th>2706</th>\n",
       "      <td>77</td>\n",
       "      <td>Incredibles 2</td>\n",
       "      <td>4,410</td>\n",
       "      <td>Jun 15</td>\n",
       "      <td>Walt Disney Studios Motion Pictures\\n\\n</td>\n",
       "      <td>641176</td>\n",
       "      <td>608581744</td>\n",
       "      <td>2018</td>\n",
       "      <td>Holiday</td>\n",
       "      <td>Holiday</td>\n",
       "      <td>6</td>\n",
       "    </tr>\n",
       "  </tbody>\n",
       "</table>\n",
       "</div>"
      ],
      "text/plain": [
       "      Unnamed: 0          title theaters release  \\\n",
       "1893           0  Incredibles 2    4,410  Jun 15   \n",
       "2349          31  Incredibles 2    4,410  Jun 15   \n",
       "2706          77  Incredibles 2    4,410  Jun 15   \n",
       "\n",
       "                                  distributor      gross  total_gross  \\\n",
       "1893  Walt Disney Studios Motion Pictures\\n\\n  603113505    608581744   \n",
       "2349  Walt Disney Studios Motion Pictures\\n\\n    4827063    608581744   \n",
       "2706  Walt Disney Studios Motion Pictures\\n\\n     641176    608581744   \n",
       "\n",
       "      season_year  seasonn   season  release_month  \n",
       "1893         2018   Summer   Summer              6  \n",
       "2349         2018     Fall     Fall              6  \n",
       "2706         2018  Holiday  Holiday              6  "
      ]
     },
     "execution_count": 102,
     "metadata": {},
     "output_type": "execute_result"
    }
   ],
   "source": [
    "years.loc[years['title']=='Incredibles 2']"
   ]
  },
  {
   "cell_type": "code",
   "execution_count": 72,
   "metadata": {},
   "outputs": [
    {
     "data": {
      "text/html": [
       "<div>\n",
       "<style scoped>\n",
       "    .dataframe tbody tr th:only-of-type {\n",
       "        vertical-align: middle;\n",
       "    }\n",
       "\n",
       "    .dataframe tbody tr th {\n",
       "        vertical-align: top;\n",
       "    }\n",
       "\n",
       "    .dataframe thead th {\n",
       "        text-align: right;\n",
       "    }\n",
       "</style>\n",
       "<table border=\"1\" class=\"dataframe\">\n",
       "  <thead>\n",
       "    <tr style=\"text-align: right;\">\n",
       "      <th></th>\n",
       "      <th>Unnamed: 0</th>\n",
       "      <th>title</th>\n",
       "      <th>theaters</th>\n",
       "      <th>release</th>\n",
       "      <th>distributor</th>\n",
       "      <th>gross</th>\n",
       "      <th>total_gross</th>\n",
       "      <th>season_year</th>\n",
       "      <th>seasonn</th>\n",
       "      <th>season</th>\n",
       "      <th>month</th>\n",
       "      <th>release_month</th>\n",
       "    </tr>\n",
       "  </thead>\n",
       "  <tbody>\n",
       "    <tr>\n",
       "      <th>1</th>\n",
       "      <td>1</td>\n",
       "      <td>Aquaman</td>\n",
       "      <td>4,184</td>\n",
       "      <td>Dec 21</td>\n",
       "      <td>Warner Bros.\\n\\n</td>\n",
       "      <td>104179199</td>\n",
       "      <td>335061807</td>\n",
       "      <td>2019</td>\n",
       "      <td>Winter</td>\n",
       "      <td>Winter</td>\n",
       "      <td>Dec</td>\n",
       "      <td>12</td>\n",
       "    </tr>\n",
       "    <tr>\n",
       "      <th>2868</th>\n",
       "      <td>239</td>\n",
       "      <td>The Second Time Around</td>\n",
       "      <td>1</td>\n",
       "      <td>Nov 30</td>\n",
       "      <td>First Run\\n\\n</td>\n",
       "      <td>2461</td>\n",
       "      <td>3837</td>\n",
       "      <td>2018</td>\n",
       "      <td>Holiday</td>\n",
       "      <td>Holiday</td>\n",
       "      <td>Nov</td>\n",
       "      <td>11</td>\n",
       "    </tr>\n",
       "    <tr>\n",
       "      <th>1421</th>\n",
       "      <td>48</td>\n",
       "      <td>Detective Chinatown 2</td>\n",
       "      <td>115</td>\n",
       "      <td>Feb 16</td>\n",
       "      <td>Warner Bros.\\n\\n</td>\n",
       "      <td>1657056</td>\n",
       "      <td>1983984</td>\n",
       "      <td>2018</td>\n",
       "      <td>Winter</td>\n",
       "      <td>Winter</td>\n",
       "      <td>Feb</td>\n",
       "      <td>2</td>\n",
       "    </tr>\n",
       "    <tr>\n",
       "      <th>1784</th>\n",
       "      <td>191</td>\n",
       "      <td>Night of 7 Years</td>\n",
       "      <td>4</td>\n",
       "      <td>Apr 6</td>\n",
       "      <td>CJ Entertainment\\n\\n</td>\n",
       "      <td>24281</td>\n",
       "      <td>24281</td>\n",
       "      <td>2018</td>\n",
       "      <td>Spring</td>\n",
       "      <td>Spring</td>\n",
       "      <td>Apr</td>\n",
       "      <td>4</td>\n",
       "    </tr>\n",
       "    <tr>\n",
       "      <th>2122</th>\n",
       "      <td>229</td>\n",
       "      <td>Custody</td>\n",
       "      <td>7</td>\n",
       "      <td>Jun 29</td>\n",
       "      <td>Kino Lorber\\n\\n</td>\n",
       "      <td>80799</td>\n",
       "      <td>83882</td>\n",
       "      <td>2018</td>\n",
       "      <td>Summer</td>\n",
       "      <td>Summer</td>\n",
       "      <td>Jun</td>\n",
       "      <td>6</td>\n",
       "    </tr>\n",
       "  </tbody>\n",
       "</table>\n",
       "</div>"
      ],
      "text/plain": [
       "      Unnamed: 0                   title theaters release  \\\n",
       "1              1                 Aquaman    4,184  Dec 21   \n",
       "2868         239  The Second Time Around        1  Nov 30   \n",
       "1421          48   Detective Chinatown 2      115  Feb 16   \n",
       "1784         191        Night of 7 Years        4   Apr 6   \n",
       "2122         229                 Custody        7  Jun 29   \n",
       "\n",
       "               distributor      gross  total_gross  season_year  seasonn  \\\n",
       "1         Warner Bros.\\n\\n  104179199    335061807         2019  Winter    \n",
       "2868         First Run\\n\\n       2461         3837         2018  Holiday   \n",
       "1421      Warner Bros.\\n\\n    1657056      1983984         2018   Winter   \n",
       "1784  CJ Entertainment\\n\\n      24281        24281         2018   Spring   \n",
       "2122       Kino Lorber\\n\\n      80799        83882         2018   Summer   \n",
       "\n",
       "       season month  release_month  \n",
       "1      Winter   Dec             12  \n",
       "2868  Holiday   Nov             11  \n",
       "1421   Winter   Feb              2  \n",
       "1784   Spring   Apr              4  \n",
       "2122   Summer   Jun              6  "
      ]
     },
     "execution_count": 72,
     "metadata": {},
     "output_type": "execute_result"
    }
   ],
   "source": [
    "years.sample(5)"
   ]
  },
  {
   "cell_type": "code",
   "execution_count": 101,
   "metadata": {},
   "outputs": [
    {
     "data": {
      "image/png": "[encoded data removed]",
      "text/plain": [
       "<Figure size 1440x432 with 1 Axes>"
      ]
     },
     "metadata": {
      "needs_background": "light"
     },
     "output_type": "display_data"
    }
   ],
   "source": [
    "y = years.groupby(['release_month']).total_gross.mean()\n",
    "x = y.index\n",
    "figure, ax = plt.subplots(figsize = (20,6))\n",
    "char = sns.scatterplot(x,y);"
   ]
  },
  {
   "cell_type": "code",
   "execution_count": null,
   "metadata": {},
   "outputs": [],
   "source": [
    "grp = years.groupby(['season_year'])\n",
    "means = years.groupby(['release_month']).gross.mean().unstack()\n",
    "# errors = [fall_std18, holiday_std18,\n",
    "#          spring_std18, summer_std18, \n",
    "#          winter_std18]\n",
    "# years.groupby(['season','season_year']).gross.mean().unstack().\n",
    "means.plot.bar()\n",
    "plt.title('Season vs Average Gross');\n",
    "plt.xlabel('Season');\n",
    "plt.ylabel('Average Gross');"
   ]
  }
 ],
 "metadata": {
  "kernelspec": {
   "display_name": "Python 3",
   "language": "python",
   "name": "python3"
  },
  "language_info": {
   "codemirror_mode": {
    "name": "ipython",
    "version": 3
   },
   "file_extension": ".py",
   "mimetype": "text/x-python",
   "name": "python",
   "nbconvert_exporter": "python",
   "pygments_lexer": "ipython3",
   "version": "3.7.6"
  }
 },
 "nbformat": 4,
 "nbformat_minor": 4
}
