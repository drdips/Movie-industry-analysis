{
 "cells": [
  {
   "cell_type": "markdown",
   "metadata": {},
   "source": [
    "# Is it a good time to go into movie industry?"
   ]
  },
  {
   "cell_type": "markdown",
   "metadata": {},
   "source": [
    "Let's find out! We can go through the tables that we have to find out if the movie industry is in a upward trend"
   ]
  },
  {
   "cell_type": "code",
   "execution_count": 1,
   "metadata": {},
   "outputs": [],
   "source": [
    "import pandas as pd\n",
    "import numpy as np\n",
    "import matplotlib.pyplot as plt\n",
    "%matplotlib inline"
   ]
  },
  {
   "cell_type": "code",
   "execution_count": 2,
   "metadata": {},
   "outputs": [],
   "source": [
    "title_basics = pd.read_csv('data/imdb.title.basics.csv')\n",
    "tmdb_movies = pd.read_csv('data/tmdb.movies.csv')\n",
    "movie_budgets = pd.read_csv('data/tn.movie_budgets.csv')\n",
    "movie_gross = pd.read_csv('data/bom.movie_gross.csv')"
   ]
  },
  {
   "cell_type": "markdown",
   "metadata": {},
   "source": [
    "Let's see the columns of the tables and see what we can use."
   ]
  },
  {
   "cell_type": "code",
   "execution_count": 3,
   "metadata": {},
   "outputs": [],
   "source": [
    "title_basics.columns\n",
    "merged = movie_gross.merge(tmdb_movies, on = 'title')\n",
    "movie_budgets.rename(columns={'movie':'title'}, inplace = True)"
   ]
  },
  {
   "cell_type": "code",
   "execution_count": 4,
   "metadata": {},
   "outputs": [],
   "source": [
    "#We need to split all the dates into years so we can analyze\n",
    "movie_budgets['year_release'] = movie_budgets.release_date.map(lambda x: int(x[-4:]))\n",
    "movie_budgets['worldwide_gross'] = movie_budgets.worldwide_gross.map(lambda x: int(x[1:].replace(',','')))"
   ]
  },
  {
   "cell_type": "code",
   "execution_count": 5,
   "metadata": {},
   "outputs": [],
   "source": [
    "# movie_budgets['worldwide_gross'] = movie_budgets.worldwide_gross.map(lambda x: int(x[1:].replace(',','')))"
   ]
  },
  {
   "cell_type": "code",
   "execution_count": 6,
   "metadata": {},
   "outputs": [
    {
     "data": {
      "text/plain": [
       "year_release\n",
       "2001    14655289257\n",
       "2002    16427271357\n",
       "2003    16501552016\n",
       "2004    18385309570\n",
       "2005    17591541193\n",
       "2006    18626047430\n",
       "2007    19011887229\n",
       "2008    21530275592\n",
       "2009    23994243179\n",
       "2010    24231912708\n",
       "2011    24675265419\n",
       "2012    27183123906\n",
       "2013    26359757029\n",
       "2014    25273926856\n",
       "2015    27800988606\n",
       "2016    28768152741\n",
       "2017    28429629005\n",
       "2018    26094444899\n",
       "2019     6676825346\n",
       "2020              0\n",
       "Name: worldwide_gross, dtype: int64"
      ]
     },
     "execution_count": 6,
     "metadata": {},
     "output_type": "execute_result"
    }
   ],
   "source": [
    "#Let's look at the data for the last two decades\n",
    "movie_budgets[movie_budgets['year_release']>2000].groupby(['year_release']).worldwide_gross.sum()"
   ]
  },
  {
   "cell_type": "code",
   "execution_count": 14,
   "metadata": {},
   "outputs": [
    {
     "data": {
      "image/png": "[encoded data removed]",
      "text/plain": [
       "<Figure size 720x432 with 1 Axes>"
      ]
     },
     "metadata": {
      "needs_background": "light"
     },
     "output_type": "display_data"
    }
   ],
   "source": [
    "#HOW IS THE MOVIE INDUSTRY DOING PROFIT WISE? WE DOING AIIIIGHTTTTT\n",
    "figure,ax = plt.subplots(figsize = (10,6))\n",
    "y = movie_budgets[movie_budgets['year_release']>2000].groupby(['year_release']).worldwide_gross.sum()\n",
    "x = y.index\n",
    "ax.scatter(x,y)\n",
    "ax.set_title('Year vs. Worldwide Gross', fontdict = {'fontsize':'xx-large'})\n",
    "ax.set_xlabel('Year', fontdict = {'fontsize':'x-large'})\n",
    "ax.set_ylabel('Worldwide Gross (Per Billion)', fontdict = {'fontsize':'x-large'});"
   ]
  },
  {
   "cell_type": "code",
   "execution_count": null,
   "metadata": {},
   "outputs": [],
   "source": []
  }
 ],
 "metadata": {
  "kernelspec": {
   "display_name": "Python 3",
   "language": "python",
   "name": "python3"
  },
  "language_info": {
   "codemirror_mode": {
    "name": "ipython",
    "version": 3
   },
   "file_extension": ".py",
   "mimetype": "text/x-python",
   "name": "python",
   "nbconvert_exporter": "python",
   "pygments_lexer": "ipython3",
   "version": "3.7.6"
  }
 },
 "nbformat": 4,
 "nbformat_minor": 4
}
