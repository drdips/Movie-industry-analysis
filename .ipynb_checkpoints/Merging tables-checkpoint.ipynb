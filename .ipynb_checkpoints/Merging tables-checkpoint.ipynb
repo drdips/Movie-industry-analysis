{
 "cells": [
  {
   "cell_type": "markdown",
   "metadata": {},
   "source": [
    "# Merging tables together!"
   ]
  },
  {
   "cell_type": "code",
   "execution_count": 89,
   "metadata": {},
   "outputs": [],
   "source": [
    "import pandas as pd\n",
    "import numpy as np\n",
    "import matplotlib.pyplot as plt\n",
    "%matplotlib inline"
   ]
  },
  {
   "cell_type": "code",
   "execution_count": 90,
   "metadata": {},
   "outputs": [],
   "source": [
    "#import csv\n",
    "title_basics = pd.read_csv('data/imdb.title.basics.csv')\n",
    "years = pd.read_csv('data/bothyear.csv')"
   ]
  },
  {
   "cell_type": "markdown",
   "metadata": {},
   "source": [
    "# Preparing title_basics table"
   ]
  },
  {
   "cell_type": "markdown",
   "metadata": {},
   "source": [
    "From the 'title_baiscs' table extracted from IMDB we are going to merge 2018 and 2019 movies together with the webscrape because we want to find which genres make the most money during a particular season. So first we want to seperate the genres in the table by ','. We then take our title basics table and only keep the 2018, 2019 movies. We also want to rename the primary_title column to just title, so that we can merge the two tables together."
   ]
  },
  {
   "cell_type": "code",
   "execution_count": 91,
   "metadata": {},
   "outputs": [],
   "source": [
    "#splitting up genres by comma split\n",
    "title_basics['genre1'] = title_basics['genres'].str.split(',', 1, expand=True)[0]\n",
    "title_basics['genre2'] = title_basics['genres'].str.split(',', 1, expand=True)[1]\n",
    "title_basics['genre3'] = title_basics['genre2'].str.split(',', 1, expand=True)[1]"
   ]
  },
  {
   "cell_type": "code",
   "execution_count": 92,
   "metadata": {},
   "outputs": [],
   "source": [
    "#Since genre2 still had commas, and we split that to genre3, we can get rid of the comma\n",
    "title_basics['genre2'] = title_basics['genre2'].str.split(',', 1, expand=True)[0]"
   ]
  },
  {
   "cell_type": "code",
   "execution_count": 93,
   "metadata": {},
   "outputs": [],
   "source": [
    "#renaming column so that we can merge between tables\n",
    "title_basics.rename(columns={'primary_title':'title'}, \n",
    "                 inplace=True)"
   ]
  },
  {
   "cell_type": "code",
   "execution_count": 94,
   "metadata": {},
   "outputs": [],
   "source": [
    "#KEEPING ONLY MOVIES FROM 2018 and 2019\n",
    "title_2019 = title_basics[title_basics.start_year == 2019]\n",
    "title_2018 = title_basics[title_basics.start_year == 2018]\n",
    "title_1819 = [title_2019,title_2018]\n",
    "title1819 = pd.concat(title_1819)"
   ]
  },
  {
   "cell_type": "code",
   "execution_count": 95,
   "metadata": {
    "scrolled": true
   },
   "outputs": [
    {
     "data": {
      "text/plain": [
       "(25228, 9)"
      ]
     },
     "execution_count": 95,
     "metadata": {},
     "output_type": "execute_result"
    }
   ],
   "source": [
    "title1819.shape"
   ]
  },
  {
   "cell_type": "code",
   "execution_count": 96,
   "metadata": {},
   "outputs": [
    {
     "data": {
      "text/plain": [
       "(2909, 9)"
      ]
     },
     "execution_count": 96,
     "metadata": {},
     "output_type": "execute_result"
    }
   ],
   "source": [
    "years.shape"
   ]
  },
  {
   "cell_type": "markdown",
   "metadata": {},
   "source": [
    "Out 'title_basics' table is now ready and has been prepared and exported to 'title1819'."
   ]
  },
  {
   "cell_type": "markdown",
   "metadata": {},
   "source": [
    "# Preparing the webscrape table 'years' "
   ]
  },
  {
   "cell_type": "markdown",
   "metadata": {},
   "source": [
    "This section, we want to prepare our 'years' table. We found that summer movies have the highest average gross. So we are going to drop all rows that do not contain summer."
   ]
  },
  {
   "cell_type": "code",
   "execution_count": 97,
   "metadata": {},
   "outputs": [],
   "source": [
    "years.drop(years[years.seasonn != 'Summer'].index, inplace = True)"
   ]
  },
  {
   "cell_type": "code",
   "execution_count": 98,
   "metadata": {},
   "outputs": [],
   "source": [
    "df_merge = pd.merge(years, title1819, on='title', how='left')"
   ]
  },
  {
   "cell_type": "code",
   "execution_count": 100,
   "metadata": {},
   "outputs": [],
   "source": [
    "df_merge.dropna(subset = ['runtime_minutes'], axis = 0, inplace = True)"
   ]
  },
  {
   "cell_type": "code",
   "execution_count": 101,
   "metadata": {},
   "outputs": [
    {
     "data": {
      "text/plain": [
       "Unnamed: 0           0\n",
       "title                0\n",
       "theaters             0\n",
       "release              0\n",
       "distributor          0\n",
       "gross                0\n",
       "total_gross          0\n",
       "season_year          0\n",
       "seasonn              0\n",
       "tconst               0\n",
       "original_title       0\n",
       "start_year           0\n",
       "runtime_minutes      0\n",
       "genres               4\n",
       "genre1               4\n",
       "genre2              57\n",
       "genre3             102\n",
       "dtype: int64"
      ]
     },
     "execution_count": 101,
     "metadata": {},
     "output_type": "execute_result"
    }
   ],
   "source": [
    "df_merge.isna().sum()"
   ]
  },
  {
   "cell_type": "markdown",
   "metadata": {},
   "source": [
    "LIMITATIONS:\n",
    "Because we are trying to find an answer to a specific question, we end up with 196 data points we can use. \n",
    "\n",
    "Now we have all of the data that we need! It's time to export! :) "
   ]
  },
  {
   "cell_type": "code",
   "execution_count": null,
   "metadata": {},
   "outputs": [],
   "source": []
  }
 ],
 "metadata": {
  "kernelspec": {
   "display_name": "Python 3",
   "language": "python",
   "name": "python3"
  },
  "language_info": {
   "codemirror_mode": {
    "name": "ipython",
    "version": 3
   },
   "file_extension": ".py",
   "mimetype": "text/x-python",
   "name": "python",
   "nbconvert_exporter": "python",
   "pygments_lexer": "ipython3",
   "version": "3.7.6"
  }
 },
 "nbformat": 4,
 "nbformat_minor": 4
}
