{
 "cells": [
  {
   "cell_type": "code",
   "execution_count": 1,
   "metadata": {},
   "outputs": [],
   "source": [
    "import pandas as pd\n",
    "import numpy as np\n",
    "import matplotlib.pyplot as plt\n",
    "%matplotlib inline"
   ]
  },
  {
   "cell_type": "code",
   "execution_count": 2,
   "metadata": {},
   "outputs": [],
   "source": [
    "title_basics = pd.read_csv('data/imdb.title.basics.csv')"
   ]
  },
  {
   "cell_type": "code",
   "execution_count": 3,
   "metadata": {},
   "outputs": [
    {
     "data": {
      "text/html": [
       "<div>\n",
       "<style scoped>\n",
       "    .dataframe tbody tr th:only-of-type {\n",
       "        vertical-align: middle;\n",
       "    }\n",
       "\n",
       "    .dataframe tbody tr th {\n",
       "        vertical-align: top;\n",
       "    }\n",
       "\n",
       "    .dataframe thead th {\n",
       "        text-align: right;\n",
       "    }\n",
       "</style>\n",
       "<table border=\"1\" class=\"dataframe\">\n",
       "  <thead>\n",
       "    <tr style=\"text-align: right;\">\n",
       "      <th></th>\n",
       "      <th>tconst</th>\n",
       "      <th>primary_title</th>\n",
       "      <th>original_title</th>\n",
       "      <th>start_year</th>\n",
       "      <th>runtime_minutes</th>\n",
       "      <th>genres</th>\n",
       "    </tr>\n",
       "  </thead>\n",
       "  <tbody>\n",
       "    <tr>\n",
       "      <th>108327</th>\n",
       "      <td>tt6356228</td>\n",
       "      <td>Como matar a un esposo muerto</td>\n",
       "      <td>Como matar a un esposo muerto</td>\n",
       "      <td>2017</td>\n",
       "      <td>NaN</td>\n",
       "      <td>Comedy</td>\n",
       "    </tr>\n",
       "    <tr>\n",
       "      <th>73447</th>\n",
       "      <td>tt4184494</td>\n",
       "      <td>My Life in China</td>\n",
       "      <td>My Life in China</td>\n",
       "      <td>2014</td>\n",
       "      <td>81.0</td>\n",
       "      <td>Biography,Documentary,Family</td>\n",
       "    </tr>\n",
       "  </tbody>\n",
       "</table>\n",
       "</div>"
      ],
      "text/plain": [
       "           tconst                  primary_title  \\\n",
       "108327  tt6356228  Como matar a un esposo muerto   \n",
       "73447   tt4184494               My Life in China   \n",
       "\n",
       "                       original_title  start_year  runtime_minutes  \\\n",
       "108327  Como matar a un esposo muerto        2017              NaN   \n",
       "73447                My Life in China        2014             81.0   \n",
       "\n",
       "                              genres  \n",
       "108327                        Comedy  \n",
       "73447   Biography,Documentary,Family  "
      ]
     },
     "execution_count": 3,
     "metadata": {},
     "output_type": "execute_result"
    }
   ],
   "source": [
    "title_basics.sample(2)"
   ]
  },
  {
   "cell_type": "code",
   "execution_count": 12,
   "metadata": {},
   "outputs": [],
   "source": [
    "#Only keeping 2018 films to merge to 2018 movies from webscrape\n",
    "title_basics.drop(title_basics[title_basics.start_year != 2018].index, inplace = True)"
   ]
  },
  {
   "cell_type": "code",
   "execution_count": 36,
   "metadata": {},
   "outputs": [],
   "source": [
    "#splitting up genres by comma split\n",
    "title_basics['genre1'] = title_basics['genres'].str.split(',', 1, expand=True)[0]\n",
    "title_basics['genre2'] = title_basics['genres'].str.split(',', 1, expand=True)[1]\n",
    "title_basics['genre3'] = title_basics['genre2'].str.split(',', 1, expand=True)[1]"
   ]
  },
  {
   "cell_type": "code",
   "execution_count": 39,
   "metadata": {},
   "outputs": [],
   "source": [
    "#Since genre2 still had commas, and we split that to genre3, we can get rid of the comma\n",
    "title_basics['genre2'] = title_basics['genre2'].str.split(',', 1, expand=True)[0]"
   ]
  },
  {
   "cell_type": "code",
   "execution_count": 52,
   "metadata": {},
   "outputs": [
    {
     "data": {
      "text/plain": [
       "tconst                 0\n",
       "primary_title          0\n",
       "original_title         3\n",
       "start_year             0\n",
       "runtime_minutes     4636\n",
       "genres               556\n",
       "genre1               556\n",
       "genre2             11373\n",
       "genre3             14355\n",
       "dtype: int64"
      ]
     },
     "execution_count": 52,
     "metadata": {},
     "output_type": "execute_result"
    }
   ],
   "source": [
    "title_basics.isna().sum()"
   ]
  },
  {
   "cell_type": "code",
   "execution_count": null,
   "metadata": {},
   "outputs": [],
   "source": []
  }
 ],
 "metadata": {
  "kernelspec": {
   "display_name": "Python 3",
   "language": "python",
   "name": "python3"
  },
  "language_info": {
   "codemirror_mode": {
    "name": "ipython",
    "version": 3
   },
   "file_extension": ".py",
   "mimetype": "text/x-python",
   "name": "python",
   "nbconvert_exporter": "python",
   "pygments_lexer": "ipython3",
   "version": "3.7.6"
  }
 },
 "nbformat": 4,
 "nbformat_minor": 4
}
